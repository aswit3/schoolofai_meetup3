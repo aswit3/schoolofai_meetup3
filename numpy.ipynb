{
  "nbformat": 4,
  "nbformat_minor": 0,
  "metadata": {
    "colab": {
      "name": "numpy.ipynb",
      "version": "0.3.2",
      "provenance": [],
      "include_colab_link": true
    },
    "kernelspec": {
      "name": "python3",
      "display_name": "Python 3"
    }
  },
  "cells": [
    {
      "cell_type": "markdown",
      "metadata": {
        "id": "view-in-github",
        "colab_type": "text"
      },
      "source": [
        "<a href=\"https://colab.research.google.com/github/aswit3/schoolofai_meetup3/blob/master/numpy.ipynb\" target=\"_parent\"><img src=\"https://colab.research.google.com/assets/colab-badge.svg\" alt=\"Open In Colab\"/></a>"
      ]
    },
    {
      "cell_type": "code",
      "metadata": {
        "id": "-E8Spz7FgOMP",
        "colab_type": "code",
        "colab": {
          "base_uri": "https://localhost:8080/",
          "height": 54
        },
        "outputId": "83cba406-8457-444b-940a-2f296c6172ea"
      },
      "source": [
        "pip install numpy"
      ],
      "execution_count": 1,
      "outputs": [
        {
          "output_type": "stream",
          "text": [
            "Requirement already satisfied: numpy in /usr/local/lib/python3.6/dist-packages (1.16.4)\n"
          ],
          "name": "stdout"
        }
      ]
    },
    {
      "cell_type": "code",
      "metadata": {
        "id": "aDwVt532g0Pl",
        "colab_type": "code",
        "colab": {}
      },
      "source": [
        "import numpy as np"
      ],
      "execution_count": 0,
      "outputs": []
    },
    {
      "cell_type": "code",
      "metadata": {
        "id": "4OUBYZ2Tg5uJ",
        "colab_type": "code",
        "colab": {
          "base_uri": "https://localhost:8080/",
          "height": 51
        },
        "outputId": "543702f0-c038-4bed-be55-bfd942e677c8"
      },
      "source": [
        "import numpy as np\n",
        "a = np.array([(1, 2, 3), (4, 5, 6)])\n",
        "print(a)"
      ],
      "execution_count": 3,
      "outputs": [
        {
          "output_type": "stream",
          "text": [
            "[[1 2 3]\n",
            " [4 5 6]]\n"
          ],
          "name": "stdout"
        }
      ]
    },
    {
      "cell_type": "code",
      "metadata": {
        "id": "Ir04onI_hQZC",
        "colab_type": "code",
        "colab": {
          "base_uri": "https://localhost:8080/",
          "height": 51
        },
        "outputId": "30c04586-884c-493b-f2b9-00ae00b18918"
      },
      "source": [
        "# occupies less memory\n",
        "# faster and more convenience\n",
        "#\n",
        "\n",
        "import numpy as np\n",
        "import sys\n",
        "\n",
        "S = range(1000)\n",
        "print(sys.getsizeof(5)*len(S))\n",
        "\n",
        "D = np.arange(1000)\n",
        "print(D.size*D.itemsize)"
      ],
      "execution_count": 4,
      "outputs": [
        {
          "output_type": "stream",
          "text": [
            "28000\n",
            "8000\n"
          ],
          "name": "stdout"
        }
      ]
    },
    {
      "cell_type": "code",
      "metadata": {
        "id": "ziZMh21ehItk",
        "colab_type": "code",
        "colab": {
          "base_uri": "https://localhost:8080/",
          "height": 51
        },
        "outputId": "a8cffece-3071-4619-b36c-96aff63110bf"
      },
      "source": [
        "import numpy as np\n",
        "import time\n",
        "import sys\n",
        "\n",
        "SIZE = 100000\n",
        "L1 = range(SIZE)\n",
        "L2 = range(SIZE)\n",
        "\n",
        "A1 = np.arange(SIZE)\n",
        "A2 = np.arange(SIZE)\n",
        "\n",
        "start = time.time()\n",
        "\n",
        "result = [(x, y) for x, y in zip(L1, L2)]\n",
        "\n",
        "print((time.time() - start) * 1000)\n",
        "\n",
        "start = time.time()\n",
        "\n",
        "result = A1 + A2\n",
        "\n",
        "print((time.time() - start) * 1000)\n"
      ],
      "execution_count": 6,
      "outputs": [
        {
          "output_type": "stream",
          "text": [
            "28.912067413330078\n",
            "7.22193717956543\n"
          ],
          "name": "stdout"
        }
      ]
    },
    {
      "cell_type": "code",
      "metadata": {
        "id": "H6W1LGukjzbI",
        "colab_type": "code",
        "colab": {
          "base_uri": "https://localhost:8080/",
          "height": 68
        },
        "outputId": "62978113-9575-4506-b98e-a02dc8bb9f27"
      },
      "source": [
        "#basic operations\n",
        "\n",
        "import numpy as np\n",
        "\n",
        "a = np.array([1,2,3])\n",
        "\n",
        "#dimension \n",
        "print(a.ndim)\n",
        "\n",
        "#size allocate\n",
        "print(a.itemsize)\n",
        "\n",
        "#datatype\n",
        "print(a.dtype)"
      ],
      "execution_count": 7,
      "outputs": [
        {
          "output_type": "stream",
          "text": [
            "1\n",
            "8\n",
            "int64\n"
          ],
          "name": "stdout"
        }
      ]
    },
    {
      "cell_type": "code",
      "metadata": {
        "id": "3hbSSwg4kr2f",
        "colab_type": "code",
        "colab": {
          "base_uri": "https://localhost:8080/",
          "height": 34
        },
        "outputId": "7def9b4d-26ac-4fc9-c04c-79c8b34d1632"
      },
      "source": [
        "#shape row  x column\n",
        "\n",
        "import numpy as np\n",
        "\n",
        "a = np.array([(1,2,3,4,5,6), (7,8,9,0,1,2)])\n",
        "\n",
        "print(a.shape)\n",
        "\n"
      ],
      "execution_count": 8,
      "outputs": [
        {
          "output_type": "stream",
          "text": [
            "(2, 6)\n"
          ],
          "name": "stdout"
        }
      ]
    },
    {
      "cell_type": "code",
      "metadata": {
        "id": "-G9iXN1ilg00",
        "colab_type": "code",
        "colab": {
          "base_uri": "https://localhost:8080/",
          "height": 153
        },
        "outputId": "7cef513c-efeb-4765-a6fa-1d094bb78b24"
      },
      "source": [
        "#reshape change size of rows and columns \n",
        "import numpy as np\n",
        "\n",
        "a = np.array([(1,2,3,4,5,6), (7,8,9,0,1,2)])\n",
        "\n",
        "print(a)\n",
        "\n",
        "a = a.reshape(6,2)\n",
        "\n",
        "print(a)\n",
        "\n",
        "# a = a.reshape(6,4)\n",
        "# print(a)"
      ],
      "execution_count": 11,
      "outputs": [
        {
          "output_type": "stream",
          "text": [
            "[[1 2 3 4 5 6]\n",
            " [7 8 9 0 1 2]]\n",
            "[[1 2]\n",
            " [3 4]\n",
            " [5 6]\n",
            " [7 8]\n",
            " [9 0]\n",
            " [1 2]]\n"
          ],
          "name": "stdout"
        }
      ]
    },
    {
      "cell_type": "code",
      "metadata": {
        "id": "reTuuOEHlOS8",
        "colab_type": "code",
        "colab": {
          "base_uri": "https://localhost:8080/",
          "height": 51
        },
        "outputId": "e36778f8-199a-4b9c-a085-e46f69b997da"
      },
      "source": [
        "#slicing extracting particular set of array values\n",
        "\n",
        "import numpy as np\n",
        "\n",
        "a = np.array([(1,2,3,4,5,6), (7,8,9,0,1,2)]) #(5,3,5,6,4,6)\n",
        "\n",
        "print(a[0,2]\n",
        "\n",
        "print(a[0:,2]) #add one more array same property will repeat\n",
        "\n",
        "#avoid \n",
        "#print(a[0:2, 3])"
      ],
      "execution_count": 14,
      "outputs": [
        {
          "output_type": "stream",
          "text": [
            "3\n",
            "[3 9]\n"
          ],
          "name": "stdout"
        }
      ]
    },
    {
      "cell_type": "code",
      "metadata": {
        "id": "ealhtAzOmy0z",
        "colab_type": "code",
        "colab": {
          "base_uri": "https://localhost:8080/",
          "height": 34
        },
        "outputId": "d45dd769-0440-4851-94d7-6d4b06d5f270"
      },
      "source": [
        "#linspace equally split values in the particular interval\n",
        "import numpy as np\n",
        "\n",
        "a = np.linspace(1, 3, 5) #try 50\n",
        "\n",
        "print(a)"
      ],
      "execution_count": 21,
      "outputs": [
        {
          "output_type": "stream",
          "text": [
            "[1.  1.5 2.  2.5 3. ]\n"
          ],
          "name": "stdout"
        }
      ]
    },
    {
      "cell_type": "code",
      "metadata": {
        "id": "qkFgPHG6oQJY",
        "colab_type": "code",
        "colab": {
          "base_uri": "https://localhost:8080/",
          "height": 187
        },
        "outputId": "cfce56f7-bc4b-4cb9-ad62-8878799832e6"
      },
      "source": [
        "#min max sum\n",
        "import numpy as np\n",
        "\n",
        "a = np.array([(1,2,3,4,5,6), (7,8,9,0,1,2)])\n",
        "\n",
        "print(a.max())\n",
        "print(a.min())\n",
        "print(a.sum())\n",
        "print(a.mean())\n",
        "print(a.var())\n",
        "\n",
        "# in numpy\n",
        "# rows --> axis 1\n",
        "# cols --> axis 0\n",
        "\n",
        "print(a.sum(axis=0))\n",
        "print(a.sum(axis=1))\n",
        "\n",
        "# square root and standard deviation\n",
        "print(np.sqrt(a))\n",
        "\n",
        "print(np.std(a))"
      ],
      "execution_count": 58,
      "outputs": [
        {
          "output_type": "stream",
          "text": [
            "9\n",
            "0\n",
            "48\n",
            "4.0\n",
            "8.166666666666666\n",
            "[ 8 10 12  4  6  8]\n",
            "[21 27]\n",
            "[[1.   1.41 1.73 2.   2.24 2.45]\n",
            " [2.65 2.83 3.   0.   1.   1.41]]\n",
            "2.857738033247041\n"
          ],
          "name": "stdout"
        }
      ]
    },
    {
      "cell_type": "code",
      "metadata": {
        "id": "YXI7m-dDpCKq",
        "colab_type": "code",
        "colab": {
          "base_uri": "https://localhost:8080/",
          "height": 292
        },
        "outputId": "ac721411-37c2-4daf-b881-b3531be05bd6"
      },
      "source": [
        "#numpy add, subtract, multiplication, division\n",
        "\n",
        "a = np.array([(1,2,3,4,5,6), (7,8,9,0,1,2)])\n",
        "\n",
        "b = np.array([(6,5,4,3,2,1), (7,8,9,8,1,2)])\n",
        "\n",
        "print(a + b)\n",
        "\n",
        "print(a - b)\n",
        "\n",
        "print( a * b)\n",
        "\n",
        "print(a/ b)\n",
        "\n",
        "#concatenate array row and column\n",
        "# vertically concatenate\n",
        "print(np.vstack((a, b)))\n",
        "\n",
        "#horizontally\n",
        "print(np.hstack((a,b)))\n",
        "\n",
        "a = np.vstack((a, b))\n",
        "#all will concatenate with same array\n",
        "print(a.ravel())"
      ],
      "execution_count": 38,
      "outputs": [
        {
          "output_type": "stream",
          "text": [
            "[[ 7  7  7  7  7  7]\n",
            " [14 16 18  8  2  4]]\n",
            "[[-5 -3 -1  1  3  5]\n",
            " [ 0  0  0 -8  0  0]]\n",
            "[[ 6 10 12 12 10  6]\n",
            " [49 64 81  0  1  4]]\n",
            "[[0.16666667 0.4        0.75       1.33333333 2.5        6.        ]\n",
            " [1.         1.         1.         0.         1.         1.        ]]\n",
            "[[1 2 3 4 5 6]\n",
            " [7 8 9 0 1 2]\n",
            " [6 5 4 3 2 1]\n",
            " [7 8 9 8 1 2]]\n",
            "[[1 2 3 4 5 6 6 5 4 3 2 1]\n",
            " [7 8 9 0 1 2 7 8 9 8 1 2]]\n",
            "[1 2 3 4 5 6 7 8 9 0 1 2 6 5 4 3 2 1 7 8 9 8 1 2]\n"
          ],
          "name": "stdout"
        }
      ]
    },
    {
      "cell_type": "code",
      "metadata": {
        "id": "BSbX-bvcrIhH",
        "colab_type": "code",
        "colab": {
          "base_uri": "https://localhost:8080/",
          "height": 269
        },
        "outputId": "70e377d0-5703-4a59-dd1a-58482fc3c185"
      },
      "source": [
        "#numpy special functions\n",
        "#sine cosine function\n",
        "\n",
        "import numpy as np\n",
        "import matplotlib.pyplot as plt\n",
        "\n",
        "x = np.arange(0, 3*np.pi, 0.1)\n",
        "y = np.sin(x)\n",
        "\n",
        "#y = np.cos(x)\n",
        "#y = np.tan(x)\n",
        "\n",
        "plt.plot(x,y)\n",
        "plt.show()"
      ],
      "execution_count": 40,
      "outputs": [
        {
          "output_type": "display_data",
          "data": {
            "image/png": "[encoded data removed]",
            "text/plain": [
              "<Figure size 432x288 with 1 Axes>"
            ]
          },
          "metadata": {
            "tags": []
          }
        }
      ]
    },
    {
      "cell_type": "code",
      "metadata": {
        "id": "F9CiAJnQt3PQ",
        "colab_type": "code",
        "colab": {
          "base_uri": "https://localhost:8080/",
          "height": 85
        },
        "outputId": "2a27a4b8-cf8a-4332-9c12-b6a909f0fadc"
      },
      "source": [
        "# exponential function and logarithmic function\n",
        "import numpy as np\n",
        "\n",
        "a = np.array([(1,2,3,4,5,6), (7,8,9,0,1,2)])\n",
        "\n",
        "print(np.exp(a))"
      ],
      "execution_count": 41,
      "outputs": [
        {
          "output_type": "stream",
          "text": [
            "[[2.71828183e+00 7.38905610e+00 2.00855369e+01 5.45981500e+01\n",
            "  1.48413159e+02 4.03428793e+02]\n",
            " [1.09663316e+03 2.98095799e+03 8.10308393e+03 1.00000000e+00\n",
            "  2.71828183e+00 7.38905610e+00]]\n"
          ],
          "name": "stdout"
        }
      ]
    },
    {
      "cell_type": "code",
      "metadata": {
        "id": "cPqsfUw_uh93",
        "colab_type": "code",
        "colab": {
          "base_uri": "https://localhost:8080/",
          "height": 71
        },
        "outputId": "1a33f1bb-09ef-431a-b048-ee137c71fb04"
      },
      "source": [
        "import numpy as np\n",
        "\n",
        "a = np.array([(1,2,3,4,5,6)])\n",
        "\n",
        "#calculate natural log\n",
        "print(np.log(a))\n",
        "\n",
        "#calculate log base 10\n",
        "print(np.log10(a))"
      ],
      "execution_count": 43,
      "outputs": [
        {
          "output_type": "stream",
          "text": [
            "[[0.         0.69314718 1.09861229 1.38629436 1.60943791 1.79175947]]\n",
            "[[0.         0.30103    0.47712125 0.60205999 0.69897    0.77815125]]\n"
          ],
          "name": "stdout"
        }
      ]
    },
    {
      "cell_type": "code",
      "metadata": {
        "id": "7EyhJe30u3hr",
        "colab_type": "code",
        "colab": {
          "base_uri": "https://localhost:8080/",
          "height": 255
        },
        "outputId": "7a819873-12ac-40c8-dfe0-dd7ba4021209"
      },
      "source": [
        "import numpy as np\n",
        "\n",
        "a = np.array([(1,2,3,4,5,6)])\n",
        "\n",
        "print(a > 3)\n",
        "\n",
        "print(a * 3)\n",
        "\n",
        "zero_array = np.zeros((3,4))\n",
        "print(zero_array)\n",
        "\n",
        "one_array = np.ones((3,4))\n",
        "print(one_array)\n",
        "\n",
        "random_array = np.random.random((2,3))\n",
        "print(random_array)\n",
        "\n",
        "np.set_printoptions(precision=2, suppress=True)\n",
        "print(random_array)\n",
        "\n",
        "random_int_array = np.random.randint(0,10,(2,3))\n",
        "print(random_int_array)"
      ],
      "execution_count": 57,
      "outputs": [
        {
          "output_type": "stream",
          "text": [
            "[[False False False  True  True  True]]\n",
            "[[ 3  6  9 12 15 18]]\n",
            "[[0. 0. 0. 0.]\n",
            " [0. 0. 0. 0.]\n",
            " [0. 0. 0. 0.]]\n",
            "[[1. 1. 1. 1.]\n",
            " [1. 1. 1. 1.]\n",
            " [1. 1. 1. 1.]]\n",
            "[[0.14 0.98 0.85]\n",
            " [0.3  0.68 0.26]]\n",
            "[[0.14 0.98 0.85]\n",
            " [0.3  0.68 0.26]]\n",
            "[[5 4 3]\n",
            " [6 9 5]]\n"
          ],
          "name": "stdout"
        }
      ]
    },
    {
      "cell_type": "code",
      "metadata": {
        "id": "0p73sr1zviHe",
        "colab_type": "code",
        "colab": {
          "base_uri": "https://localhost:8080/",
          "height": 51
        },
        "outputId": "f3941889-55d6-406c-b476-df33a451f790"
      },
      "source": [
        "# #shiffle array\n",
        "import numpy as np\n",
        "arr = np.arange(10)\n",
        "print(np.random.shuffle(arr))\n",
        "print(np.random.choice(arr))"
      ],
      "execution_count": 68,
      "outputs": [
        {
          "output_type": "stream",
          "text": [
            "None\n",
            "6\n"
          ],
          "name": "stdout"
        }
      ]
    },
    {
      "cell_type": "code",
      "metadata": {
        "id": "iUNQpkl5yJne",
        "colab_type": "code",
        "colab": {}
      },
      "source": [
        ""
      ],
      "execution_count": 0,
      "outputs": []
    }
  ]
}